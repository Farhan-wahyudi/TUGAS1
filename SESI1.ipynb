{
  "nbformat": 4,
  "nbformat_minor": 0,
  "metadata": {
    "colab": {
      "provenance": [],
      "authorship_tag": "ABX9TyOl/rSru651hwvi7d/gzhHg",
      "include_colab_link": true
    },
    "kernelspec": {
      "name": "python3",
      "display_name": "Python 3"
    },
    "language_info": {
      "name": "python"
    }
  },
  "cells": [
    {
      "cell_type": "markdown",
      "metadata": {
        "id": "view-in-github",
        "colab_type": "text"
      },
      "source": [
        "<a href=\"https://colab.research.google.com/github/Farhan-wahyudi/TUGAS1/blob/main/SESI1.ipynb\" target=\"_parent\"><img src=\"https://colab.research.google.com/assets/colab-badge.svg\" alt=\"Open In Colab\"/></a>"
      ]
    },
    {
      "cell_type": "code",
      "source": [
        "##\n",
        "# Menampilkan alamat lengkap seseorang\n",
        "#\n",
        "print(\"Hendri Ahmadian\")\n",
        "print(\"Department of Information Technology\")\n",
        "print(\"UIN Ar-Raniry\")\n",
        "print(\"Jalan Syech Abdurrauf Kopelma Darussalam\")\n",
        "print(\"Banda Aceh 23111\")\n",
        "print(\"Indonesia\")"
      ],
      "metadata": {
        "colab": {
          "base_uri": "https://localhost:8080/"
        },
        "id": "qwxUseM7VRBO",
        "outputId": "f5cd223d-db7d-4077-9faf-691fe6fa65cd"
      },
      "execution_count": 13,
      "outputs": [
        {
          "output_type": "stream",
          "name": "stdout",
          "text": [
            "Hendri Ahmadian\n",
            "Department of Information Technology\n",
            "UIN Ar-Raniry\n",
            "Jalan Syech Abdurrauf Kopelma Darussalam\n",
            "Banda Aceh 23111\n",
            "Indonesia\n"
          ]
        }
      ]
    },
    {
      "cell_type": "code",
      "source": [
        "##\n",
        "# Menghitung luas kamar\n",
        "#\n",
        "\n",
        "# Membaca angka yang dimasukkan oleh user\n",
        "panjang = float(input(\"Masukkan ukuran panjang dalam satuan meter \"))\n",
        "lebar = float(input(\"Masukkan ukuran lebar dalam satuan meter \"))\n",
        "\n",
        "# Proses perhitungan luas\n",
        "luas = panjang * lebar\n",
        "\n",
        "# Tampilkan hasil\n",
        "print(\"Luas dari kamar ini adalah\", luas, \"meter kuadrat\")"
      ],
      "metadata": {
        "colab": {
          "base_uri": "https://localhost:8080/"
        },
        "id": "J7OVwmqIVYxS",
        "outputId": "44577c58-8290-44a7-ec47-c6db6aee0864"
      },
      "execution_count": 14,
      "outputs": [
        {
          "output_type": "stream",
          "name": "stdout",
          "text": [
            "Masukkan ukuran panjang dalam satuan meter 5\n",
            "Masukkan ukuran lebar dalam satuan meter 5\n",
            "Luas dari kamar ini adalah 25.0 meter kuadrat\n"
          ]
        }
      ]
    },
    {
      "cell_type": "code",
      "source": [
        "##\n",
        "# Menghitung jumlah dari bilangan positif pertama\n",
        "#\n",
        "\n",
        "# Membaca angka yang dimasukkan oleh user\n",
        "n = int(input(\"Masukkan bilangan bulat positif:\"))\n",
        "\n",
        "# Proses Menghitung jumlah\n",
        "sm = n * (n+1) / 2\n",
        "\n",
        "# Tampilkan hasil\n",
        "print(\"Jumlah pertama dari \", n, \"bilangan positif adalah\", sm)"
      ],
      "metadata": {
        "colab": {
          "base_uri": "https://localhost:8080/"
        },
        "id": "aYA4duytVh7f",
        "outputId": "0375cb76-d3af-4557-fc11-a903a21ee022"
      },
      "execution_count": 15,
      "outputs": [
        {
          "output_type": "stream",
          "name": "stdout",
          "text": [
            "Masukkan bilangan bulat positif:2\n",
            "Jumlah pertama dari  2 bilangan positif adalah 3.0\n"
          ]
        }
      ]
    },
    {
      "cell_type": "code",
      "source": [
        "##\n",
        "# Pengenalan operator matematika pada Python dan modul math\n",
        "#\n",
        "\n",
        "from math import log10\n",
        "\n",
        "# Membaca input dari user\n",
        "x = int (input(\"Masukkan bilangan dari x:\"))\n",
        "y = int (input(\"Masukkan bilangan dari y:\"))\n",
        "\n",
        "# Menghitung dan menampilkan operator matematika\n",
        "print(x, \"+\", y, \"adalah\", x + y)\n",
        "print(x, \"-\", y, \"adalah\", x - y)\n",
        "print(x, \"*\", y, \"adalah\", x * y)\n",
        "print(x, \"/\", y, \"adalah\", x / y)\n",
        "print(x, \"%\", y, \"adalah\", x % y)\n",
        "\n",
        "# Menghitung logaritma dan pangkat\n",
        "print(\"Logaritma basis 10 dari\", x, \"adalah\", log10(x))\n",
        "print(x, \"^\", y, \"adalah\", x**y)"
      ],
      "metadata": {
        "colab": {
          "base_uri": "https://localhost:8080/"
        },
        "id": "laLzo93iVqSk",
        "outputId": "25646fe1-abcc-42e2-8963-6ff7ac21daba"
      },
      "execution_count": 16,
      "outputs": [
        {
          "output_type": "stream",
          "name": "stdout",
          "text": [
            "Masukkan bilangan dari x:10\n",
            "Masukkan bilangan dari y:10\n",
            "10 + 10 adalah 20\n",
            "10 - 10 adalah 0\n",
            "10 * 10 adalah 100\n",
            "10 / 10 adalah 1.0\n",
            "10 % 10 adalah 0\n",
            "Logaritma basis 10 dari 10 adalah 1.0\n",
            "10 ^ 10 adalah 10000000000\n"
          ]
        }
      ]
    }
  ]
}